{
 "cells": [
  {
   "cell_type": "markdown",
   "metadata": {},
   "source": [
    "### Heroes Of Pymoli Data Analysis\n",
    "* Of the 1163 active players, the vast majority are male (84%). There also exists, a smaller, but notable proportion of female players (14%).\n",
    "\n",
    "* Our peak age demographic falls between 20-24 (44.8%) with secondary groups falling between 15-19 (18.60%) and 25-29 (13.4%).  \n",
    "-----"
   ]
  },
  {
   "cell_type": "markdown",
   "metadata": {},
   "source": [
    "### Note\n",
    "* Instructions have been included for each segment. You do not have to follow them exactly, but they are included to help you think through the steps."
   ]
  },
  {
   "cell_type": "code",
   "execution_count": 138,
   "metadata": {},
   "outputs": [
    {
     "data": {
      "text/html": [
       "<div>\n",
       "<style scoped>\n",
       "    .dataframe tbody tr th:only-of-type {\n",
       "        vertical-align: middle;\n",
       "    }\n",
       "\n",
       "    .dataframe tbody tr th {\n",
       "        vertical-align: top;\n",
       "    }\n",
       "\n",
       "    .dataframe thead th {\n",
       "        text-align: right;\n",
       "    }\n",
       "</style>\n",
       "<table border=\"1\" class=\"dataframe\">\n",
       "  <thead>\n",
       "    <tr style=\"text-align: right;\">\n",
       "      <th></th>\n",
       "      <th>Purchase ID</th>\n",
       "      <th>SN</th>\n",
       "      <th>Age</th>\n",
       "      <th>Gender</th>\n",
       "      <th>Item ID</th>\n",
       "      <th>Item Name</th>\n",
       "      <th>Price</th>\n",
       "    </tr>\n",
       "  </thead>\n",
       "  <tbody>\n",
       "    <tr>\n",
       "      <th>0</th>\n",
       "      <td>0</td>\n",
       "      <td>Lisim78</td>\n",
       "      <td>20</td>\n",
       "      <td>Male</td>\n",
       "      <td>108</td>\n",
       "      <td>Extraction, Quickblade Of Trembling Hands</td>\n",
       "      <td>3.53</td>\n",
       "    </tr>\n",
       "    <tr>\n",
       "      <th>1</th>\n",
       "      <td>1</td>\n",
       "      <td>Lisovynya38</td>\n",
       "      <td>40</td>\n",
       "      <td>Male</td>\n",
       "      <td>143</td>\n",
       "      <td>Frenzied Scimitar</td>\n",
       "      <td>1.56</td>\n",
       "    </tr>\n",
       "    <tr>\n",
       "      <th>2</th>\n",
       "      <td>2</td>\n",
       "      <td>Ithergue48</td>\n",
       "      <td>24</td>\n",
       "      <td>Male</td>\n",
       "      <td>92</td>\n",
       "      <td>Final Critic</td>\n",
       "      <td>4.88</td>\n",
       "    </tr>\n",
       "    <tr>\n",
       "      <th>3</th>\n",
       "      <td>3</td>\n",
       "      <td>Chamassasya86</td>\n",
       "      <td>24</td>\n",
       "      <td>Male</td>\n",
       "      <td>100</td>\n",
       "      <td>Blindscythe</td>\n",
       "      <td>3.27</td>\n",
       "    </tr>\n",
       "    <tr>\n",
       "      <th>4</th>\n",
       "      <td>4</td>\n",
       "      <td>Iskosia90</td>\n",
       "      <td>23</td>\n",
       "      <td>Male</td>\n",
       "      <td>131</td>\n",
       "      <td>Fury</td>\n",
       "      <td>1.44</td>\n",
       "    </tr>\n",
       "  </tbody>\n",
       "</table>\n",
       "</div>"
      ],
      "text/plain": [
       "   Purchase ID             SN  Age Gender  Item ID  \\\n",
       "0            0        Lisim78   20   Male      108   \n",
       "1            1    Lisovynya38   40   Male      143   \n",
       "2            2     Ithergue48   24   Male       92   \n",
       "3            3  Chamassasya86   24   Male      100   \n",
       "4            4      Iskosia90   23   Male      131   \n",
       "\n",
       "                                   Item Name  Price  \n",
       "0  Extraction, Quickblade Of Trembling Hands   3.53  \n",
       "1                          Frenzied Scimitar   1.56  \n",
       "2                               Final Critic   4.88  \n",
       "3                                Blindscythe   3.27  \n",
       "4                                       Fury   1.44  "
      ]
     },
     "execution_count": 138,
     "metadata": {},
     "output_type": "execute_result"
    }
   ],
   "source": [
    "# Dependencies and Setup\n",
    "import pandas as pd\n",
    "import numpy as np\n",
    "\n",
    "# File to Load (Remember to Change These)\n",
    "purchase_file = \"Resources/purchase_data.csv\"\n",
    "\n",
    "# Read Purchasing File and store into Pandas data frame\n",
    "purchase_data = pd.read_csv(purchase_file)\n",
    "purchase_data.head()"
   ]
  },
  {
   "cell_type": "markdown",
   "metadata": {},
   "source": [
    "## Player Count"
   ]
  },
  {
   "cell_type": "markdown",
   "metadata": {},
   "source": [
    "* Display the total number of players\n"
   ]
  },
  {
   "cell_type": "code",
   "execution_count": 139,
   "metadata": {},
   "outputs": [
    {
     "data": {
      "text/plain": [
       "576"
      ]
     },
     "execution_count": 139,
     "metadata": {},
     "output_type": "execute_result"
    }
   ],
   "source": [
    "#get the total number of unique players and store that in a variable\n",
    "\n",
    "unique_players_df = purchase_data.groupby('SN')['Gender'].nunique()\n",
    "total_players = len(unique_players_df)\n",
    "total_players\n"
   ]
  },
  {
   "cell_type": "markdown",
   "metadata": {},
   "source": [
    "## Purchasing Analysis (Total)"
   ]
  },
  {
   "cell_type": "markdown",
   "metadata": {},
   "source": [
    "* Run basic calculations to obtain number of unique items, average price, etc.\n",
    "\n",
    "\n",
    "* Create a summary data frame to hold the results\n",
    "\n",
    "\n",
    "* Optional: give the displayed data cleaner formatting\n",
    "\n",
    "\n",
    "* Display the summary data frame\n"
   ]
  },
  {
   "cell_type": "code",
   "execution_count": 140,
   "metadata": {
    "scrolled": true
   },
   "outputs": [
    {
     "data": {
      "text/plain": [
       "183"
      ]
     },
     "execution_count": 140,
     "metadata": {},
     "output_type": "execute_result"
    }
   ],
   "source": [
    "#use the nunique function to get a count of the number of distinct items in the file\n",
    "unique_items_count = purchase_data['Item ID'].nunique()\n",
    "unique_items_count"
   ]
  },
  {
   "cell_type": "code",
   "execution_count": 141,
   "metadata": {},
   "outputs": [
    {
     "data": {
      "text/plain": [
       "3.05"
      ]
     },
     "execution_count": 141,
     "metadata": {},
     "output_type": "execute_result"
    }
   ],
   "source": [
    "#use the mean function \n",
    "average_price = round(purchase_data['Price'].mean(), 2)\n",
    "average_price\n"
   ]
  },
  {
   "cell_type": "code",
   "execution_count": 142,
   "metadata": {},
   "outputs": [
    {
     "data": {
      "text/plain": [
       "780"
      ]
     },
     "execution_count": 142,
     "metadata": {},
     "output_type": "execute_result"
    }
   ],
   "source": [
    "#get the total number of purchases\n",
    "total_purchases = purchase_data['Purchase ID'].count()\n",
    "total_purchases"
   ]
  },
  {
   "cell_type": "code",
   "execution_count": 143,
   "metadata": {},
   "outputs": [
    {
     "data": {
      "text/plain": [
       "2379.77"
      ]
     },
     "execution_count": 143,
     "metadata": {},
     "output_type": "execute_result"
    }
   ],
   "source": [
    "#store the total revenue\n",
    "total_revenue = purchase_data['Price'].sum()\n",
    "total_revenue"
   ]
  },
  {
   "cell_type": "code",
   "execution_count": 144,
   "metadata": {},
   "outputs": [],
   "source": [
    "#put the calculations obtained above into a summary dataframe\n",
    "#first create a \"placeholder\" index because a dataframe needs both rows and columns.  Since our summary dataframe doesn't\n",
    "#really have common row data, we need to create one with an index.\n",
    "index = [0]\n",
    "\n",
    "#now create the dataframe using the 0 index\n",
    "summary_calcs_df = pd.DataFrame({'Total Players': total_players, 'Number of Unique Items': unique_items_count, 'Average Price': average_price, \n",
    "                                'Number of Purchases': total_purchases, 'Total Revenue': total_revenue}, index = index)\n",
    "\n"
   ]
  },
  {
   "cell_type": "code",
   "execution_count": 145,
   "metadata": {},
   "outputs": [
    {
     "data": {
      "text/html": [
       "<div>\n",
       "<style scoped>\n",
       "    .dataframe tbody tr th:only-of-type {\n",
       "        vertical-align: middle;\n",
       "    }\n",
       "\n",
       "    .dataframe tbody tr th {\n",
       "        vertical-align: top;\n",
       "    }\n",
       "\n",
       "    .dataframe thead th {\n",
       "        text-align: right;\n",
       "    }\n",
       "</style>\n",
       "<table border=\"1\" class=\"dataframe\">\n",
       "  <thead>\n",
       "    <tr style=\"text-align: right;\">\n",
       "      <th></th>\n",
       "      <th>Total Players</th>\n",
       "      <th>Number of Unique Items</th>\n",
       "      <th>Average Price</th>\n",
       "      <th>Number of Purchases</th>\n",
       "      <th>Total Revenue</th>\n",
       "    </tr>\n",
       "  </thead>\n",
       "  <tbody>\n",
       "    <tr>\n",
       "      <th>0</th>\n",
       "      <td>576</td>\n",
       "      <td>183</td>\n",
       "      <td>$3.05</td>\n",
       "      <td>780</td>\n",
       "      <td>$2,379.77</td>\n",
       "    </tr>\n",
       "  </tbody>\n",
       "</table>\n",
       "</div>"
      ],
      "text/plain": [
       "   Total Players  Number of Unique Items Average Price  Number of Purchases  \\\n",
       "0            576                     183         $3.05                  780   \n",
       "\n",
       "  Total Revenue  \n",
       "0     $2,379.77  "
      ]
     },
     "execution_count": 145,
     "metadata": {},
     "output_type": "execute_result"
    }
   ],
   "source": [
    "#format the average price and total revenue columns with dollar signs and two decimal places\n",
    "summary_calcs_df['Average Price'] = summary_calcs_df['Average Price'].astype(float).map(\"${:,.2f}\".format)\n",
    "summary_calcs_df['Total Revenue'] = summary_calcs_df['Total Revenue'].astype(float).map(\"${:,.2f}\".format)\n",
    "summary_calcs_df\n",
    "\n"
   ]
  },
  {
   "cell_type": "markdown",
   "metadata": {},
   "source": [
    "## Gender Demographics"
   ]
  },
  {
   "cell_type": "markdown",
   "metadata": {},
   "source": [
    "* Percentage and Count of Male Players\n",
    "\n",
    "\n",
    "* Percentage and Count of Female Players\n",
    "\n",
    "\n",
    "* Percentage and Count of Other / Non-Disclosed\n",
    "\n",
    "\n"
   ]
  },
  {
   "cell_type": "code",
   "execution_count": 146,
   "metadata": {},
   "outputs": [
    {
     "name": "stdout",
     "output_type": "stream",
     "text": [
      "                       Total Count Percentage of Players\n",
      "Gender                                                  \n",
      "Male                           484                84.03%\n",
      "Female                          81                14.06%\n",
      "Other / Non-Disclosed           11                 1.91%\n"
     ]
    }
   ],
   "source": [
    "#group the dataframe on gender\n",
    "\n",
    "grouped_gender_df = purchase_data.groupby(['Gender'])\n",
    "\n",
    "\n",
    "#get the total females, males and other\n",
    "total_females = grouped_gender_df.nunique()[\"SN\"]['Female']\n",
    "total_males = grouped_gender_df.nunique()[\"SN\"]['Male']\n",
    "total_other = grouped_gender_df.nunique()[\"SN\"]['Other / Non-Disclosed']\n",
    "total_players = total_females + total_males + total_other\n",
    "\n",
    "#Calculate the percentages for each gender\n",
    "male_percent = round((total_males/total_players) * 100, 2)\n",
    "female_percent = round((total_females/total_players) * 100, 2)\n",
    "other_percent = round((total_other/total_players) * 100, 2)\n",
    "\n",
    "#print(f'Gender Demographics:  Males {male_percent}%, Females {female_percent}%, Other/Non-Disclosed {other_percent}%')\n",
    "\n",
    "#Display calculations by putting them into a new dataframe and clean up the percentage display\n",
    "\n",
    "demo_df = pd.DataFrame({'Total Count' : grouped_gender_df.nunique()['SN'],\n",
    "                        'Percentage of Players' : grouped_gender_df.nunique()['SN'] / total_players})\n",
    "\n",
    "demo_df['Percentage of Players'] = (demo_df['Percentage of Players'])*100\n",
    "\n",
    "demo_df['Percentage of Players'] = demo_df['Percentage of Players'].astype(float).map(\"{:,.2f}%\".format)\n",
    "\n",
    "demo_df = demo_df.sort_values('Total Count', ascending=False)\n",
    "\n",
    "print(demo_df)\n",
    "\n"
   ]
  },
  {
   "cell_type": "markdown",
   "metadata": {},
   "source": [
    "\n",
    "## Purchasing Analysis (Gender)"
   ]
  },
  {
   "cell_type": "markdown",
   "metadata": {},
   "source": [
    "* Run basic calculations to obtain purchase count, avg. purchase price, avg. purchase total per person etc. by gender\n",
    "\n",
    "\n",
    "\n",
    "\n",
    "* Create a summary data frame to hold the results\n",
    "\n",
    "\n",
    "* Optional: give the displayed data cleaner formatting\n",
    "\n",
    "\n",
    "* Display the summary data frame"
   ]
  },
  {
   "cell_type": "code",
   "execution_count": 147,
   "metadata": {},
   "outputs": [
    {
     "data": {
      "text/html": [
       "<div>\n",
       "<style scoped>\n",
       "    .dataframe tbody tr th:only-of-type {\n",
       "        vertical-align: middle;\n",
       "    }\n",
       "\n",
       "    .dataframe tbody tr th {\n",
       "        vertical-align: top;\n",
       "    }\n",
       "\n",
       "    .dataframe thead th {\n",
       "        text-align: right;\n",
       "    }\n",
       "</style>\n",
       "<table border=\"1\" class=\"dataframe\">\n",
       "  <thead>\n",
       "    <tr style=\"text-align: right;\">\n",
       "      <th></th>\n",
       "      <th>Purchase Count</th>\n",
       "      <th>Avg Purchase Price</th>\n",
       "      <th>Total Purchase Value</th>\n",
       "      <th>Avg Total Purchase Per Person</th>\n",
       "    </tr>\n",
       "    <tr>\n",
       "      <th>Gender</th>\n",
       "      <th></th>\n",
       "      <th></th>\n",
       "      <th></th>\n",
       "      <th></th>\n",
       "    </tr>\n",
       "  </thead>\n",
       "  <tbody>\n",
       "    <tr>\n",
       "      <th>Female</th>\n",
       "      <td>113</td>\n",
       "      <td>$3.20</td>\n",
       "      <td>$361.94</td>\n",
       "      <td>$4.47</td>\n",
       "    </tr>\n",
       "    <tr>\n",
       "      <th>Male</th>\n",
       "      <td>652</td>\n",
       "      <td>$3.02</td>\n",
       "      <td>$1,967.64</td>\n",
       "      <td>$4.07</td>\n",
       "    </tr>\n",
       "    <tr>\n",
       "      <th>Other / Non-Disclosed</th>\n",
       "      <td>15</td>\n",
       "      <td>$3.35</td>\n",
       "      <td>$50.19</td>\n",
       "      <td>$4.56</td>\n",
       "    </tr>\n",
       "  </tbody>\n",
       "</table>\n",
       "</div>"
      ],
      "text/plain": [
       "                       Purchase Count Avg Purchase Price Total Purchase Value  \\\n",
       "Gender                                                                          \n",
       "Female                            113              $3.20              $361.94   \n",
       "Male                              652              $3.02            $1,967.64   \n",
       "Other / Non-Disclosed              15              $3.35               $50.19   \n",
       "\n",
       "                      Avg Total Purchase Per Person  \n",
       "Gender                                               \n",
       "Female                                        $4.47  \n",
       "Male                                          $4.07  \n",
       "Other / Non-Disclosed                         $4.56  "
      ]
     },
     "execution_count": 147,
     "metadata": {},
     "output_type": "execute_result"
    }
   ],
   "source": [
    "#Determine the purchase count, avg purchase price, total purchase value and average total per person\n",
    "\n",
    "#get average per person by grouping by both gender and the SN (gender first and then SN).  Once you have that, do a sum so that\n",
    "#you have the total amount spent per person (SN), still grouped by gender.  Apply another groupby and specify\n",
    "#level=0, so it knows to group by Gender first.  I then apply a mean operation and get the average spent per person\n",
    "#\n",
    "\n",
    "\n",
    "per_person_gb = purchase_data.groupby(['Gender', 'SN']).sum().groupby(level=0).mean()\n",
    "\n",
    "\n",
    "\n",
    "purch_sum_df = pd.DataFrame({'Purchase Count': grouped_gender_df.count()['Purchase ID'],\n",
    "                        'Avg Purchase Price': grouped_gender_df.mean()['Price'], \n",
    "                         'Total Purchase Value': grouped_gender_df.sum()['Price'], \n",
    "                        'Avg Total Purchase Per Person' : per_person_gb['Price']})\n",
    "\n",
    "\n",
    "\n",
    "#Format the amount columns as currency\n",
    "\n",
    "purch_sum_df['Avg Purchase Price'] = purch_sum_df['Avg Purchase Price'].astype(float).map(\"${:,.2f}\".format)\n",
    "purch_sum_df['Total Purchase Value'] = purch_sum_df['Total Purchase Value'].astype(float).map(\"${:,.2f}\".format)\n",
    "purch_sum_df['Avg Total Purchase Per Person'] = purch_sum_df['Avg Total Purchase Per Person'].astype(float).map(\"${:,.2f}\".format)\n",
    "\n",
    "purch_sum_df\n",
    "\n"
   ]
  },
  {
   "cell_type": "markdown",
   "metadata": {},
   "source": [
    "## Age Demographics"
   ]
  },
  {
   "cell_type": "markdown",
   "metadata": {},
   "source": [
    "* Establish bins for ages\n",
    "\n",
    "\n",
    "* Categorize the existing players using the age bins. Hint: use pd.cut()\n",
    "\n",
    "\n",
    "* Calculate the numbers and percentages by age group\n",
    "\n",
    "\n",
    "* Create a summary data frame to hold the results\n",
    "\n",
    "\n",
    "* Optional: round the percentage column to two decimal points\n",
    "\n",
    "\n",
    "* Display Age Demographics Table\n"
   ]
  },
  {
   "cell_type": "code",
   "execution_count": 148,
   "metadata": {},
   "outputs": [],
   "source": [
    "# Create the bins in which Data will be held\n",
    "# Bins are 0, 60, 70, 80, 90, 100\n",
    "bins = [0, 9, 14, 19, 24, 29, 34, 39, 120]\n",
    "\n",
    "# Create the names for the four bins\n",
    "group_names = [\"<10\", \"10-14\", \"15-19\", \"20-24\", \"25-29\", \"30-34\", \"35-39\", \"40+\"]"
   ]
  },
  {
   "cell_type": "code",
   "execution_count": 149,
   "metadata": {},
   "outputs": [],
   "source": [
    "#Cut the purchase data dataframe by age\n",
    "\n",
    "#First create a new dataframe with just the player screen name and their age\n",
    "\n",
    "age_demo_df = pd.DataFrame({'SN' : purchase_data['SN'], 'Age': purchase_data['Age']})\n",
    "\n",
    "#Drop duplicate values from this dataframe\n",
    "\n",
    "age_demo_df = age_demo_df.drop_duplicates()\n",
    "\n",
    "#Cut the data by age and add the age group series as a column\n",
    "\n",
    "age_demo_df[\"Age Group\"] = pd.cut(age_demo_df['Age'], bins, labels=group_names)\n",
    "\n"
   ]
  },
  {
   "cell_type": "code",
   "execution_count": 150,
   "metadata": {},
   "outputs": [
    {
     "data": {
      "text/html": [
       "<div>\n",
       "<style scoped>\n",
       "    .dataframe tbody tr th:only-of-type {\n",
       "        vertical-align: middle;\n",
       "    }\n",
       "\n",
       "    .dataframe tbody tr th {\n",
       "        vertical-align: top;\n",
       "    }\n",
       "\n",
       "    .dataframe thead th {\n",
       "        text-align: right;\n",
       "    }\n",
       "</style>\n",
       "<table border=\"1\" class=\"dataframe\">\n",
       "  <thead>\n",
       "    <tr style=\"text-align: right;\">\n",
       "      <th></th>\n",
       "      <th>Total Count</th>\n",
       "      <th>Percentage of Players</th>\n",
       "    </tr>\n",
       "    <tr>\n",
       "      <th>Age Group</th>\n",
       "      <th></th>\n",
       "      <th></th>\n",
       "    </tr>\n",
       "  </thead>\n",
       "  <tbody>\n",
       "    <tr>\n",
       "      <th>&lt;10</th>\n",
       "      <td>17</td>\n",
       "      <td>2.95%</td>\n",
       "    </tr>\n",
       "    <tr>\n",
       "      <th>10-14</th>\n",
       "      <td>22</td>\n",
       "      <td>3.82%</td>\n",
       "    </tr>\n",
       "    <tr>\n",
       "      <th>15-19</th>\n",
       "      <td>107</td>\n",
       "      <td>18.58%</td>\n",
       "    </tr>\n",
       "    <tr>\n",
       "      <th>20-24</th>\n",
       "      <td>258</td>\n",
       "      <td>44.79%</td>\n",
       "    </tr>\n",
       "    <tr>\n",
       "      <th>25-29</th>\n",
       "      <td>77</td>\n",
       "      <td>13.37%</td>\n",
       "    </tr>\n",
       "    <tr>\n",
       "      <th>30-34</th>\n",
       "      <td>52</td>\n",
       "      <td>9.03%</td>\n",
       "    </tr>\n",
       "    <tr>\n",
       "      <th>35-39</th>\n",
       "      <td>31</td>\n",
       "      <td>5.38%</td>\n",
       "    </tr>\n",
       "    <tr>\n",
       "      <th>40+</th>\n",
       "      <td>12</td>\n",
       "      <td>2.08%</td>\n",
       "    </tr>\n",
       "  </tbody>\n",
       "</table>\n",
       "</div>"
      ],
      "text/plain": [
       "           Total Count Percentage of Players\n",
       "Age Group                                   \n",
       "<10                 17                 2.95%\n",
       "10-14               22                 3.82%\n",
       "15-19              107                18.58%\n",
       "20-24              258                44.79%\n",
       "25-29               77                13.37%\n",
       "30-34               52                 9.03%\n",
       "35-39               31                 5.38%\n",
       "40+                 12                 2.08%"
      ]
     },
     "execution_count": 150,
     "metadata": {},
     "output_type": "execute_result"
    }
   ],
   "source": [
    "#Create a groupby object\n",
    "\n",
    "age_group = age_demo_df.groupby(\"Age Group\")\n",
    "\n",
    "age_percent = (age_group['SN'].count()/total_players)*100\n",
    "\n",
    "# Find how many players fall into each bin\n",
    "age_summary_df = pd.DataFrame({'Total Count' : age_group[\"SN\"].count()})\n",
    "\n",
    "age_summary_df['Percentage of Players'] = (age_group['SN'].count()/total_players)*100\n",
    "age_summary_df['Percentage of Players'] = age_summary_df['Percentage of Players'].astype(float).map(\"{:,.2f}%\".format)\n",
    "\n",
    "age_summary_df\n"
   ]
  },
  {
   "cell_type": "markdown",
   "metadata": {},
   "source": [
    "## Purchasing Analysis (Age)"
   ]
  },
  {
   "cell_type": "markdown",
   "metadata": {},
   "source": [
    "* Bin the purchase_data data frame by age\n",
    "\n",
    "\n",
    "* Run basic calculations to obtain purchase count, avg. purchase price, avg. purchase total per person etc. in the table below\n",
    "\n",
    "\n",
    "* Create a summary data frame to hold the results\n",
    "\n",
    "\n",
    "* Optional: give the displayed data cleaner formatting\n",
    "\n",
    "\n",
    "* Display the summary data frame"
   ]
  },
  {
   "cell_type": "code",
   "execution_count": 151,
   "metadata": {},
   "outputs": [
    {
     "data": {
      "text/html": [
       "<div>\n",
       "<style scoped>\n",
       "    .dataframe tbody tr th:only-of-type {\n",
       "        vertical-align: middle;\n",
       "    }\n",
       "\n",
       "    .dataframe tbody tr th {\n",
       "        vertical-align: top;\n",
       "    }\n",
       "\n",
       "    .dataframe thead th {\n",
       "        text-align: right;\n",
       "    }\n",
       "</style>\n",
       "<table border=\"1\" class=\"dataframe\">\n",
       "  <thead>\n",
       "    <tr style=\"text-align: right;\">\n",
       "      <th></th>\n",
       "      <th>Purchase Count</th>\n",
       "      <th>Average Purchase Price</th>\n",
       "      <th>Total Purchase Value</th>\n",
       "      <th>Avg Total Purchase per Person</th>\n",
       "    </tr>\n",
       "    <tr>\n",
       "      <th>Age Group</th>\n",
       "      <th></th>\n",
       "      <th></th>\n",
       "      <th></th>\n",
       "      <th></th>\n",
       "    </tr>\n",
       "  </thead>\n",
       "  <tbody>\n",
       "    <tr>\n",
       "      <th>&lt;10</th>\n",
       "      <td>23</td>\n",
       "      <td>$3.35</td>\n",
       "      <td>$77.13</td>\n",
       "      <td>$4.54</td>\n",
       "    </tr>\n",
       "    <tr>\n",
       "      <th>10-14</th>\n",
       "      <td>28</td>\n",
       "      <td>$2.96</td>\n",
       "      <td>$82.78</td>\n",
       "      <td>$3.76</td>\n",
       "    </tr>\n",
       "    <tr>\n",
       "      <th>15-19</th>\n",
       "      <td>136</td>\n",
       "      <td>$3.04</td>\n",
       "      <td>$412.89</td>\n",
       "      <td>$3.86</td>\n",
       "    </tr>\n",
       "    <tr>\n",
       "      <th>20-24</th>\n",
       "      <td>365</td>\n",
       "      <td>$3.05</td>\n",
       "      <td>$1,114.06</td>\n",
       "      <td>$4.32</td>\n",
       "    </tr>\n",
       "    <tr>\n",
       "      <th>25-29</th>\n",
       "      <td>101</td>\n",
       "      <td>$2.90</td>\n",
       "      <td>$293.00</td>\n",
       "      <td>$3.81</td>\n",
       "    </tr>\n",
       "    <tr>\n",
       "      <th>30-34</th>\n",
       "      <td>73</td>\n",
       "      <td>$2.93</td>\n",
       "      <td>$214.00</td>\n",
       "      <td>$4.12</td>\n",
       "    </tr>\n",
       "    <tr>\n",
       "      <th>35-39</th>\n",
       "      <td>41</td>\n",
       "      <td>$3.60</td>\n",
       "      <td>$147.67</td>\n",
       "      <td>$4.76</td>\n",
       "    </tr>\n",
       "    <tr>\n",
       "      <th>40+</th>\n",
       "      <td>13</td>\n",
       "      <td>$2.94</td>\n",
       "      <td>$38.24</td>\n",
       "      <td>$3.19</td>\n",
       "    </tr>\n",
       "  </tbody>\n",
       "</table>\n",
       "</div>"
      ],
      "text/plain": [
       "           Purchase Count Average Purchase Price Total Purchase Value  \\\n",
       "Age Group                                                               \n",
       "<10                    23                  $3.35               $77.13   \n",
       "10-14                  28                  $2.96               $82.78   \n",
       "15-19                 136                  $3.04              $412.89   \n",
       "20-24                 365                  $3.05            $1,114.06   \n",
       "25-29                 101                  $2.90              $293.00   \n",
       "30-34                  73                  $2.93              $214.00   \n",
       "35-39                  41                  $3.60              $147.67   \n",
       "40+                    13                  $2.94               $38.24   \n",
       "\n",
       "          Avg Total Purchase per Person  \n",
       "Age Group                                \n",
       "<10                               $4.54  \n",
       "10-14                             $3.76  \n",
       "15-19                             $3.86  \n",
       "20-24                             $4.32  \n",
       "25-29                             $3.81  \n",
       "30-34                             $4.12  \n",
       "35-39                             $4.76  \n",
       "40+                               $3.19  "
      ]
     },
     "execution_count": 151,
     "metadata": {},
     "output_type": "execute_result"
    }
   ],
   "source": [
    "#Cut the purchase data dataframe by age\n",
    "\n",
    "#First create a new dataframe with the columns we need\n",
    "\n",
    "age_purch_df = pd.DataFrame({'Purchase ID' : purchase_data['Purchase ID'], 'Age': purchase_data['Age'],\n",
    "                             'SN' : purchase_data['SN'], 'Price': purchase_data['Price']})\n",
    "\n",
    "#Cut the data by age and add the age group series as a column\n",
    "\n",
    "age_purch_df[\"Age Group\"] = pd.cut(age_purch_df['Age'], bins, labels=group_names)\n",
    "age_purch_df\n",
    "\n",
    "#Create a groupby object\n",
    "\n",
    "age_purch_grp = age_purch_df.groupby(\"Age Group\")\n",
    "\n",
    "#age_percent = (age_group['SN'].count()/total_players)*100\n",
    "\n",
    "# Find how many purchases were made in each age group\n",
    "age_purch_counts = age_purch_grp.count()['Purchase ID']\n",
    "\n",
    "#Get the average purchase price for each age group\n",
    "age_purch_price_avg = age_purch_grp.mean()['Price']\n",
    "age_purch_price_avg\n",
    "\n",
    "#Get the total purchase value for each age group\n",
    "age_purch_price_tot = age_purch_grp.sum()['Price']\n",
    "age_purch_price_tot\n",
    "\n",
    "#Get the avg purchase price per person for each age group.  Need to create another grouped\n",
    "#dataframe \n",
    "pp_avg_price_gb = age_purch_df.groupby(['Age Group', 'SN']).sum().groupby(level=0).mean()\n",
    "\n",
    "purch_analysis_sum_df = pd.DataFrame({'Purchase Count' : age_purch_counts, 'Average Purchase Price' : age_purch_price_avg, \n",
    "                                     'Total Purchase Value' : age_purch_price_tot, 'Avg Total Purchase per Person' : pp_avg_price_gb ['Price']})\n",
    "\n",
    "purch_analysis_sum_df\n",
    "\n",
    "purch_analysis_sum_df['Average Purchase Price'] = purch_analysis_sum_df['Average Purchase Price'].astype(float).map(\"${:,.2f}\".format)\n",
    "purch_analysis_sum_df['Total Purchase Value'] = purch_analysis_sum_df['Total Purchase Value'].astype(float).map(\"${:,.2f}\".format)\n",
    "purch_analysis_sum_df['Avg Total Purchase per Person'] = purch_analysis_sum_df['Avg Total Purchase per Person'].astype(float).map(\"${:,.2f}\".format)\n",
    "\n",
    "purch_analysis_sum_df\n"
   ]
  },
  {
   "cell_type": "markdown",
   "metadata": {},
   "source": [
    "## Top Spenders"
   ]
  },
  {
   "cell_type": "markdown",
   "metadata": {},
   "source": [
    "* Run basic calculations to obtain the results in the table below\n",
    "\n",
    "\n",
    "* Create a summary data frame to hold the results\n",
    "\n",
    "\n",
    "* Sort the total purchase value column in descending order\n",
    "\n",
    "\n",
    "* Optional: give the displayed data cleaner formatting\n",
    "\n",
    "\n",
    "* Display a preview of the summary data frame\n",
    "\n"
   ]
  },
  {
   "cell_type": "code",
   "execution_count": 235,
   "metadata": {},
   "outputs": [
    {
     "data": {
      "text/html": [
       "<div>\n",
       "<style scoped>\n",
       "    .dataframe tbody tr th:only-of-type {\n",
       "        vertical-align: middle;\n",
       "    }\n",
       "\n",
       "    .dataframe tbody tr th {\n",
       "        vertical-align: top;\n",
       "    }\n",
       "\n",
       "    .dataframe thead th {\n",
       "        text-align: right;\n",
       "    }\n",
       "</style>\n",
       "<table border=\"1\" class=\"dataframe\">\n",
       "  <thead>\n",
       "    <tr style=\"text-align: right;\">\n",
       "      <th></th>\n",
       "      <th>Purchase Count</th>\n",
       "      <th>Average Purchase Price</th>\n",
       "      <th>Total Purchase Value</th>\n",
       "    </tr>\n",
       "    <tr>\n",
       "      <th>SN</th>\n",
       "      <th></th>\n",
       "      <th></th>\n",
       "      <th></th>\n",
       "    </tr>\n",
       "  </thead>\n",
       "  <tbody>\n",
       "    <tr>\n",
       "      <th>Lisosia93</th>\n",
       "      <td>5</td>\n",
       "      <td>$3.79</td>\n",
       "      <td>18.96</td>\n",
       "    </tr>\n",
       "    <tr>\n",
       "      <th>Idastidru52</th>\n",
       "      <td>4</td>\n",
       "      <td>$3.86</td>\n",
       "      <td>15.45</td>\n",
       "    </tr>\n",
       "    <tr>\n",
       "      <th>Chamjask73</th>\n",
       "      <td>3</td>\n",
       "      <td>$4.61</td>\n",
       "      <td>13.83</td>\n",
       "    </tr>\n",
       "    <tr>\n",
       "      <th>Iral74</th>\n",
       "      <td>4</td>\n",
       "      <td>$3.40</td>\n",
       "      <td>13.62</td>\n",
       "    </tr>\n",
       "    <tr>\n",
       "      <th>Iskadarya95</th>\n",
       "      <td>3</td>\n",
       "      <td>$4.37</td>\n",
       "      <td>13.10</td>\n",
       "    </tr>\n",
       "  </tbody>\n",
       "</table>\n",
       "</div>"
      ],
      "text/plain": [
       "             Purchase Count Average Purchase Price  Total Purchase Value\n",
       "SN                                                                      \n",
       "Lisosia93                 5                  $3.79                 18.96\n",
       "Idastidru52               4                  $3.86                 15.45\n",
       "Chamjask73                3                  $4.61                 13.83\n",
       "Iral74                    4                  $3.40                 13.62\n",
       "Iskadarya95               3                  $4.37                 13.10"
      ]
     },
     "execution_count": 235,
     "metadata": {},
     "output_type": "execute_result"
    }
   ],
   "source": [
    "#First create a new dataframe with the columns we need.  Above dataframe is cut and we don't want that here.\n",
    "\n",
    "top_spend_df = pd.DataFrame({'SN' : purchase_data['SN'], 'Purchase ID' : purchase_data['Purchase ID'],  'Price': purchase_data['Price']})\n",
    "\n",
    "#top_spend_gb = top_spend_df.groupby('SN').rank(method='max', ascending=False)\n",
    "top_spend_gb = top_spend_df.groupby('SN')\n",
    "\n",
    "top_spend_count = top_spend_gb.count()['Purchase ID']\n",
    "top_spend_count\n",
    "\n",
    "top_spend_avg_price = top_spend_gb.mean()['Price']\n",
    "top_spend_avg_price\n",
    "\n",
    "\n",
    "top_spend_value = top_spend_gb.sum()['Price']\n",
    "top_spend_value\n",
    "\n",
    "#Put above stats into a summary datframe and then sort them by total spend amount\n",
    "\n",
    "top_spend_summary = pd.DataFrame({'Purchase Count' : top_spend_count, 'Average Purchase Price' : top_spend_avg_price,\n",
    "                                  'Total Purchase Value' : top_spend_value })\n",
    "\n",
    "\n",
    "                    \n",
    "#format the columns\n",
    "top_spend_summary['Average Purchase Price'] = top_spend_summary['Average Purchase Price'].astype(float).map(\"${:,.2f}\".format)\n",
    "#top_spend_summary['Total Purchase Value'] = top_spend_summary['Total Purchase Value'].astype(float).map(\"${:,.2f}\".format)\n",
    "\n",
    "\n",
    "#sort the summary dataframe on total purchase value in descending order\n",
    "top_spend_summary.sort_values(by='Total Purchase Value', ascending=False).head()\n",
    "\n",
    "\n",
    "#can't format total purchase value as currency because we can't sort on that\n"
   ]
  },
  {
   "cell_type": "markdown",
   "metadata": {},
   "source": [
    "## Most Popular Items"
   ]
  },
  {
   "cell_type": "markdown",
   "metadata": {},
   "source": [
    "* Retrieve the Item ID, Item Name, and Item Price columns\n",
    "\n",
    "\n",
    "* Group by Item ID and Item Name. Perform calculations to obtain purchase count, item price, and total purchase value\n",
    "\n",
    "\n",
    "* Create a summary data frame to hold the results\n",
    "\n",
    "\n",
    "* Sort the purchase count column in descending order\n",
    "\n",
    "\n",
    "* Optional: give the displayed data cleaner formatting\n",
    "\n",
    "\n",
    "* Display a preview of the summary data frame\n",
    "\n"
   ]
  },
  {
   "cell_type": "code",
   "execution_count": 239,
   "metadata": {},
   "outputs": [
    {
     "data": {
      "text/html": [
       "<div>\n",
       "<style scoped>\n",
       "    .dataframe tbody tr th:only-of-type {\n",
       "        vertical-align: middle;\n",
       "    }\n",
       "\n",
       "    .dataframe tbody tr th {\n",
       "        vertical-align: top;\n",
       "    }\n",
       "\n",
       "    .dataframe thead th {\n",
       "        text-align: right;\n",
       "    }\n",
       "</style>\n",
       "<table border=\"1\" class=\"dataframe\">\n",
       "  <thead>\n",
       "    <tr style=\"text-align: right;\">\n",
       "      <th></th>\n",
       "      <th>Item ID</th>\n",
       "      <th>Item Name</th>\n",
       "      <th>Purchase Count</th>\n",
       "      <th>Item Price</th>\n",
       "      <th>Total Purchase Value</th>\n",
       "    </tr>\n",
       "  </thead>\n",
       "  <tbody>\n",
       "    <tr>\n",
       "      <th>120</th>\n",
       "      <td>178</td>\n",
       "      <td>Oathbreaker, Last Hope of the Breaking Storm</td>\n",
       "      <td>12</td>\n",
       "      <td>4.23</td>\n",
       "      <td>50.76</td>\n",
       "    </tr>\n",
       "    <tr>\n",
       "      <th>0</th>\n",
       "      <td>108</td>\n",
       "      <td>Extraction, Quickblade Of Trembling Hands</td>\n",
       "      <td>9</td>\n",
       "      <td>3.53</td>\n",
       "      <td>31.77</td>\n",
       "    </tr>\n",
       "    <tr>\n",
       "      <th>87</th>\n",
       "      <td>82</td>\n",
       "      <td>Nirvana</td>\n",
       "      <td>9</td>\n",
       "      <td>4.90</td>\n",
       "      <td>44.10</td>\n",
       "    </tr>\n",
       "    <tr>\n",
       "      <th>469</th>\n",
       "      <td>145</td>\n",
       "      <td>Fiery Glass Crusader</td>\n",
       "      <td>9</td>\n",
       "      <td>4.58</td>\n",
       "      <td>41.22</td>\n",
       "    </tr>\n",
       "    <tr>\n",
       "      <th>635</th>\n",
       "      <td>19</td>\n",
       "      <td>Pursuit, Cudgel of Necromancy</td>\n",
       "      <td>8</td>\n",
       "      <td>1.02</td>\n",
       "      <td>8.16</td>\n",
       "    </tr>\n",
       "  </tbody>\n",
       "</table>\n",
       "</div>"
      ],
      "text/plain": [
       "     Item ID                                     Item Name  Purchase Count  \\\n",
       "120      178  Oathbreaker, Last Hope of the Breaking Storm              12   \n",
       "0        108     Extraction, Quickblade Of Trembling Hands               9   \n",
       "87        82                                       Nirvana               9   \n",
       "469      145                          Fiery Glass Crusader               9   \n",
       "635       19                 Pursuit, Cudgel of Necromancy               8   \n",
       "\n",
       "     Item Price  Total Purchase Value  \n",
       "120        4.23                 50.76  \n",
       "0          3.53                 31.77  \n",
       "87         4.90                 44.10  \n",
       "469        4.58                 41.22  \n",
       "635        1.02                  8.16  "
      ]
     },
     "execution_count": 239,
     "metadata": {},
     "output_type": "execute_result"
    }
   ],
   "source": [
    "#create a new dataframe with item id, item name, item price\n",
    "\n",
    "pop_items_df = pd.DataFrame({'Item ID' : purchase_data['Item ID'], 'Item Name' : purchase_data['Item Name'], \n",
    "                             'Item Price' : purchase_data['Price']})\n",
    "#pop_items_df.sort_values(by=['Item ID'])\n",
    "\n",
    "pop_items_gb = pop_items_df.groupby(['Item ID', 'Item Name'])\n",
    "\n",
    "pop_items = pop_items_gb.count()['Item Price']\n",
    "pop_items\n",
    "\n",
    "pop_tot_value = pop_items_gb.sum()['Item Price']\n",
    "pop_tot_value\n",
    "\n",
    "\n",
    "#Put calculations into a summary dataframe\n",
    "pop_summary_df = pd.DataFrame({'Purchase Count' : pop_items, 'Total Purchase Value': pop_tot_value})\n",
    "#pop_summary_df.sort_values(by=['Purchase Count'], ascending=False)\n",
    "\n",
    "pop_merge_df = pd.merge(pop_items_df, pop_summary_df, on=['Item ID'])\n",
    "pop_merge_df = pop_merge_df.drop_duplicates()\n",
    "pop_merge_df = pop_merge_df[['Item ID', 'Item Name', 'Purchase Count', 'Item Price', 'Total Purchase Value']]\n",
    "pop_merge_df.sort_values(by=['Purchase Count'], ascending=False).head()\n",
    "\n"
   ]
  },
  {
   "cell_type": "markdown",
   "metadata": {},
   "source": [
    "## Most Profitable Items"
   ]
  },
  {
   "cell_type": "markdown",
   "metadata": {},
   "source": [
    "* Sort the above table by total purchase value in descending order\n",
    "\n",
    "\n",
    "* Optional: give the displayed data cleaner formatting\n",
    "\n",
    "\n",
    "* Display a preview of the data frame\n",
    "\n"
   ]
  },
  {
   "cell_type": "code",
   "execution_count": 248,
   "metadata": {
    "scrolled": true
   },
   "outputs": [
    {
     "data": {
      "text/html": [
       "<div>\n",
       "<style scoped>\n",
       "    .dataframe tbody tr th:only-of-type {\n",
       "        vertical-align: middle;\n",
       "    }\n",
       "\n",
       "    .dataframe tbody tr th {\n",
       "        vertical-align: top;\n",
       "    }\n",
       "\n",
       "    .dataframe thead th {\n",
       "        text-align: right;\n",
       "    }\n",
       "</style>\n",
       "<table border=\"1\" class=\"dataframe\">\n",
       "  <thead>\n",
       "    <tr style=\"text-align: right;\">\n",
       "      <th></th>\n",
       "      <th>Item ID</th>\n",
       "      <th>Item Name</th>\n",
       "      <th>Purchase Count</th>\n",
       "      <th>Item Price</th>\n",
       "      <th>Total Purchase Value</th>\n",
       "    </tr>\n",
       "  </thead>\n",
       "  <tbody>\n",
       "    <tr>\n",
       "      <th>0</th>\n",
       "      <td>178</td>\n",
       "      <td>Oathbreaker, Last Hope of the Breaking Storm</td>\n",
       "      <td>12</td>\n",
       "      <td>4.23</td>\n",
       "      <td>$50.76</td>\n",
       "    </tr>\n",
       "    <tr>\n",
       "      <th>1</th>\n",
       "      <td>82</td>\n",
       "      <td>Nirvana</td>\n",
       "      <td>9</td>\n",
       "      <td>4.90</td>\n",
       "      <td>$44.10</td>\n",
       "    </tr>\n",
       "    <tr>\n",
       "      <th>2</th>\n",
       "      <td>145</td>\n",
       "      <td>Fiery Glass Crusader</td>\n",
       "      <td>9</td>\n",
       "      <td>4.58</td>\n",
       "      <td>$41.22</td>\n",
       "    </tr>\n",
       "    <tr>\n",
       "      <th>3</th>\n",
       "      <td>92</td>\n",
       "      <td>Final Critic</td>\n",
       "      <td>8</td>\n",
       "      <td>4.88</td>\n",
       "      <td>$39.04</td>\n",
       "    </tr>\n",
       "    <tr>\n",
       "      <th>4</th>\n",
       "      <td>103</td>\n",
       "      <td>Singed Scalpel</td>\n",
       "      <td>8</td>\n",
       "      <td>4.35</td>\n",
       "      <td>$34.80</td>\n",
       "    </tr>\n",
       "  </tbody>\n",
       "</table>\n",
       "</div>"
      ],
      "text/plain": [
       "   Item ID                                     Item Name  Purchase Count  \\\n",
       "0      178  Oathbreaker, Last Hope of the Breaking Storm              12   \n",
       "1       82                                       Nirvana               9   \n",
       "2      145                          Fiery Glass Crusader               9   \n",
       "3       92                                  Final Critic               8   \n",
       "4      103                                Singed Scalpel               8   \n",
       "\n",
       "   Item Price Total Purchase Value  \n",
       "0        4.23               $50.76  \n",
       "1        4.90               $44.10  \n",
       "2        4.58               $41.22  \n",
       "3        4.88               $39.04  \n",
       "4        4.35               $34.80  "
      ]
     },
     "execution_count": 248,
     "metadata": {},
     "output_type": "execute_result"
    }
   ],
   "source": [
    "#Sort the most popular items summary dataframe on purchase value to see which items are the most profitable\n",
    "\n",
    "most_profitable = pop_merge_df.sort_values(by=['Total Purchase Value'], ascending=False)\n",
    "\n",
    "#You can't sort on a field formatted as  currency, so create a new dataframe where the index is reset to the new\n",
    "#descending sort order.  Once that is done, we can format the total purchase value field as currency and the\n",
    "#dataframe will be sorted by the new index when we display it again\n",
    "\n",
    "new_index = most_profitable.reset_index(drop=True)\n",
    "new_index.head()\n",
    "\n",
    "new_index['Total Purchase Value'] = new_index['Total Purchase Value'].astype(float).map(\"${:,.2f}\".format)\n",
    "new_index.head()\n"
   ]
  },
  {
   "cell_type": "code",
   "execution_count": null,
   "metadata": {},
   "outputs": [],
   "source": []
  }
 ],
 "metadata": {
  "anaconda-cloud": {},
  "kernel_info": {
   "name": "python3"
  },
  "kernelspec": {
   "display_name": "Python [default]",
   "language": "python",
   "name": "python3"
  },
  "language_info": {
   "codemirror_mode": {
    "name": "ipython",
    "version": 3
   },
   "file_extension": ".py",
   "mimetype": "text/x-python",
   "name": "python",
   "nbconvert_exporter": "python",
   "pygments_lexer": "ipython3",
   "version": "3.6.5"
  },
  "nteract": {
   "version": "0.2.0"
  }
 },
 "nbformat": 4,
 "nbformat_minor": 2
}
